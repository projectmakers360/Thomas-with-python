{
 "cells": [
  {
   "cell_type": "code",
   "execution_count": 1,
   "metadata": {},
   "outputs": [
    {
     "ename": "NameError",
     "evalue": "name 'ds24' is not defined",
     "output_type": "error",
     "traceback": [
      "\u001b[1;31m---------------------------------------------------------------------------\u001b[0m",
      "\u001b[1;31mNameError\u001b[0m                                 Traceback (most recent call last)",
      "\u001b[1;32m<ipython-input-1-1ed95f541c56>\u001b[0m in \u001b[0;36m<module>\u001b[1;34m\u001b[0m\n\u001b[1;32m----> 1\u001b[1;33m \u001b[0mds24\u001b[0m\u001b[1;33m\u001b[0m\u001b[1;33m\u001b[0m\u001b[0m\n\u001b[0m",
      "\u001b[1;31mNameError\u001b[0m: name 'ds24' is not defined"
     ]
    }
   ],
   "source": [
    "ds24"
   ]
  },
  {
   "cell_type": "code",
   "execution_count": null,
   "metadata": {},
   "outputs": [],
   "source": [
    "import matplotlib.pyplot as plt\n",
    "import pandas as pd\n",
    "import numpy as np\n",
    "pd.set_option(\"display.max_rows\", None, \"display.max_columns\", None)"
   ]
  },
  {
   "cell_type": "code",
   "execution_count": null,
   "metadata": {},
   "outputs": [],
   "source": [
    "# list of x and y \n",
    "def lmkr(f,start = -100,end = 100,step = 1):\n",
    "    x = np.arange(start,end,step)\n",
    "    y = []\n",
    "    for i in x:\n",
    "        y.append(f(i))\n",
    "\n",
    "    return x,y\n",
    "\n",
    "################################################################################################################################\n",
    "# table of x and y\n",
    "def panda_table(x,y,col = 1):\n",
    "    a = {}\n",
    "    col = col + (col)\n",
    "    row = (len(x)/col) + 1\n",
    "    row = int(row) * 2 \n",
    "\n",
    "    for i in range(col):\n",
    "        a[f\"{i+1}\"] = [f\"({row}x{col})\"]\n",
    "\n",
    "    data = pd.DataFrame(a)\n",
    "\n",
    "    for r in range(row):\n",
    "        df = {}\n",
    "        for c,i in zip(np.arange(0,col,2),range(int(col/2))):\n",
    "            try:\n",
    "                df[f\"{c+1}\"] = f\"{x[r+(row*i)]} = {y[r+(row*i)]}\"\n",
    "            except:\n",
    "                pass\n",
    "            df[f\"{c+2}\"] = \"|\"\n",
    "    \n",
    "        data = data.append(df, ignore_index = True)\n",
    "    \n",
    "    return display(data)\n",
    "\n",
    "################################################################################################################################\n",
    "# display the graph\n",
    "def displot(x,y,*args,x_lim = False,y_lim = False):\n",
    "    plt.plot(x,y)\n",
    "    plt.grid()\n",
    "    plt.axhline(linewidth=1, color='black')\n",
    "    plt.axvline(linewidth=1, color='black')\n",
    "    for i in np.arange(0,len(args),2):\n",
    "        plt.plot(args[i],args[i+1])\n",
    "    \n",
    "    if x_lim:\n",
    "        try :\n",
    "            l = int(input(\"x_left side limit = \"))\n",
    "            r = int(input(\"x_right side limit = \"))\n",
    "            plt.xlim(l,r)\n",
    "        except:\n",
    "            print(\"tata\")\n",
    "    if y_lim:\n",
    "        try :\n",
    "            l = int(input(\"y_down side limit = \"))\n",
    "            r = int(input(\"y_up side limit = \"))\n",
    "            plt.ylim(l,r)\n",
    "        except:\n",
    "            print(\"tata\")\n",
    "            \n",
    "    plt.xlabel(\"\\n<--------------------- X -------------------->\")\n",
    "    plt.ylabel(\"<--------------------- Y -------------------->\\n\")\n",
    "    plt.show()\n",
    "\n",
    "################################################################################################################################\n",
    "# user input for find m and b (y = mx + b)\n",
    "def linear_eq(x1,y1,x2,y2,inc_x = True,inc_y = False):\n",
    "    \n",
    "    # find m (Slop)\n",
    "    m = (y2 - y1)/(x2 - x1)\n",
    "    print(\"\\ny = mx + b,\\twhere\\n\\t\\tm = \",m)\n",
    "    \n",
    "    # x and y intercept\n",
    "    # find b\n",
    "    if inc_x:\n",
    "        x = int(input(\"value of x :\"))\n",
    "        b = (-m)*(x)\n",
    "        print(f\"\\nFor given X - INTERCEPT({x},0) :\")                \n",
    "        print(f\"\\ny = {m}x + b,\\twhere\\n\\t\\tb = \",b)\n",
    "        print(f\"\\n\\n\\t-------------------\\n=>\\t| y = {m}x + {b} |\\n\\t-------------------\")        \n",
    "    \n",
    "    elif inc_y:\n",
    "        y = int(input(\"value of y :\"))\n",
    "        b = y\n",
    "        print(f\"\\nFor given Y - INTERCEPT(0,{y}) :\")        \n",
    "        print(f\"\\ny = {m}x + b,\\twhere\\n\\t\\tb = \",b)\n",
    "        print(f\"\\n\\n\\t-------------------\\n=>\\t| y = {m}x + {b} |\\n\\t-------------------\")        \n",
    "    \n",
    "    return m,b\n"
   ]
  },
  {
   "cell_type": "code",
   "execution_count": null,
   "metadata": {},
   "outputs": [],
   "source": [
    "# function\n",
    "def f(x):\n",
    "    y = x\n",
    "    return y"
   ]
  },
  {
   "cell_type": "code",
   "execution_count": null,
   "metadata": {},
   "outputs": [],
   "source": [
    "linear_eq(x1=1,y1=0,x2=2,y2=2)"
   ]
  },
  {
   "cell_type": "code",
   "execution_count": null,
   "metadata": {},
   "outputs": [],
   "source": [
    "x,y = lmkr(f,0,1.1,0.001)"
   ]
  },
  {
   "cell_type": "code",
   "execution_count": null,
   "metadata": {},
   "outputs": [],
   "source": [
    "displot(x,y)"
   ]
  },
  {
   "cell_type": "code",
   "execution_count": null,
   "metadata": {},
   "outputs": [],
   "source": [
    "panda_table(x1,y1,2) "
   ]
  }
 ],
 "metadata": {
  "kernelspec": {
   "display_name": "Python 3",
   "language": "python",
   "name": "python3"
  },
  "language_info": {
   "codemirror_mode": {
    "name": "ipython",
    "version": 3
   },
   "file_extension": ".py",
   "mimetype": "text/x-python",
   "name": "python",
   "nbconvert_exporter": "python",
   "pygments_lexer": "ipython3",
   "version": "3.8.5"
  }
 },
 "nbformat": 4,
 "nbformat_minor": 4
}
