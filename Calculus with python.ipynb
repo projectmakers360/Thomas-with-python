{
 "cells": [
  {
   "cell_type": "code",
   "execution_count": 1,
   "id": "dbf36584",
   "metadata": {},
   "outputs": [],
   "source": [
    "import matplotlib.pyplot as plt\n",
    "import pandas as pd\n",
    "import numpy as np\n",
    "pd.set_option(\"display.max_rows\", None, \"display.max_columns\", None)"
   ]
  },
  {
   "cell_type": "markdown",
   "id": "6cedb900",
   "metadata": {},
   "source": [
    "# Model"
   ]
  },
  {
   "cell_type": "code",
   "execution_count": null,
   "id": "359f8384",
   "metadata": {},
   "outputs": [],
   "source": [
    "def lmkr(f,start = -100,end = 100,step = 1):\n",
    "    x = np.arange(start,end,step)\n",
    "    y = []\n",
    "    for i in x:\n",
    "        y.append(f(i))\n",
    "\n",
    "    return x,y\n",
    "\n",
    "################################################################################################################################\n",
    "\n",
    "def panda_table(x,y,col = 1):\n",
    "    a = {}\n",
    "    col = col + (col)\n",
    "    row = (len(x)/col) + 1\n",
    "    row = int(row) * 2 \n",
    "\n",
    "    for i in range(col):\n",
    "        a[f\"{i+1}\"] = [f\"({row}x{col})\"]\n",
    "\n",
    "    data = pd.DataFrame(a)\n",
    "\n",
    "    for r in range(row):\n",
    "        df = {}\n",
    "        for c,i in zip(np.arange(0,col,2),range(int(col/2))):\n",
    "            try:\n",
    "                df[f\"{c+1}\"] = f\"{x[r+(row*i)]} = {y[r+(row*i)]}\"\n",
    "            except:\n",
    "                pass\n",
    "            df[f\"{c+2}\"] = \"|\"\n",
    "    \n",
    "        data = data.append(df, ignore_index = True)\n",
    "    \n",
    "    return display(data)\n",
    "\n",
    "################################################################################################################################\n",
    "\n",
    "def displot(x,y,*args):\n",
    "    plt.plot(x,y)\n",
    "    plt.grid()\n",
    "    \n",
    "    for i in np.arange(0,len(args),2):\n",
    "        plt.plot(args[i],args[i+1])\n",
    "    \n",
    "    plt.xlabel(\"\\n<---------------------X-------------------->\")\n",
    "    plt.ylabel(\"<---------------------Y-------------------->\\n\")\n",
    "    plt.show()\n",
    "\n",
    "################################################################################################################################\n",
    "\n",
    "def linear_eq(x1,y1,x2,y2,inc_x = True,inc_y = False):\n",
    "    \n",
    "    # find m (Slop)\n",
    "    ny = y2 - y1\n",
    "    dx = x2 - x1\n",
    "    m = ny/dx\n",
    "    \n",
    "    # find b\n",
    "    if inc_x:\n",
    "        x = int(input(\"value of x :\"))\n",
    "        b = (-m)*(x)\n",
    "        print(f\"For given X - INTERCEPT({x},0) :\\nm = {m}\\nb = {b}\")        \n",
    "    \n",
    "    elif inc_y:\n",
    "        y = int(input(\"value of y :\"))\n",
    "        b = y\n",
    "        print(f\"For given Y - INTERCEPT(0,{y}) :\\nm = {m}\\nb = {b}\")        \n",
    "    \n",
    "    return m,b\n",
    "\n"
   ]
  },
  {
   "cell_type": "markdown",
   "id": "f5722881",
   "metadata": {},
   "source": [
    "# 1.1"
   ]
  },
  {
   "cell_type": "markdown",
   "id": "f0c8bb99",
   "metadata": {},
   "source": [
    "# 1"
   ]
  },
  {
   "cell_type": "code",
   "execution_count": null,
   "id": "9e547e15",
   "metadata": {},
   "outputs": [],
   "source": [
    "def f(x):\n",
    "    y = "
   ]
  }
 ],
 "metadata": {
  "kernelspec": {
   "display_name": "Python 3",
   "language": "python",
   "name": "python3"
  },
  "language_info": {
   "codemirror_mode": {
    "name": "ipython",
    "version": 3
   },
   "file_extension": ".py",
   "mimetype": "text/x-python",
   "name": "python",
   "nbconvert_exporter": "python",
   "pygments_lexer": "ipython3",
   "version": "3.8.8"
  }
 },
 "nbformat": 4,
 "nbformat_minor": 5
}
